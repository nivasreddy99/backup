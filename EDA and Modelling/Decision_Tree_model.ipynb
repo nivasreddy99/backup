{
 "cells": [
  {
   "cell_type": "markdown",
   "metadata": {},
   "source": [
    "### Trained a Random Forest model"
   ]
  },
  {
   "cell_type": "code",
   "execution_count": 7,
   "metadata": {},
   "outputs": [],
   "source": [
    "from sklearn.tree import DecisionTreeRegressor\n",
    "DT = DecisionTreeRegressor()"
   ]
  },
  {
   "cell_type": "markdown",
   "metadata": {},
   "source": [
    "#### List of parameters for hyperparameter tuning"
   ]
  },
  {
   "cell_type": "code",
   "execution_count": 8,
   "metadata": {},
   "outputs": [],
   "source": [
    "param = {\n",
    "    'max_depth':[6,9,12,15],\n",
    "    'min_samples_leaf':[10,50,100,150]\n",
    "}"
   ]
  },
  {
   "cell_type": "markdown",
   "metadata": {},
   "source": [
    "# Hyperparameter optimization using RandomizedSearchCV "
   ]
  },
  {
   "cell_type": "code",
   "execution_count": 11,
   "metadata": {},
   "outputs": [],
   "source": [
    "from sklearn.metrics import mean_squared_error,make_scorer\n",
    "from sklearn.model_selection import RandomizedSearchCV\n",
    "random_search=RandomizedSearchCV(DT,param_distributions=param,n_iter=5,scoring=make_scorer(mean_squared_error),n_jobs=-1,cv=5,verbose=3)"
   ]
  },
  {
   "cell_type": "code",
   "execution_count": 12,
   "metadata": {},
   "outputs": [
    {
     "name": "stdout",
     "output_type": "stream",
     "text": [
      "Fitting 5 folds for each of 5 candidates, totalling 25 fits\n"
     ]
    },
    {
     "name": "stderr",
     "output_type": "stream",
     "text": [
      "[Parallel(n_jobs=-1)]: Using backend LokyBackend with 8 concurrent workers.\n",
      "[Parallel(n_jobs=-1)]: Done  19 out of  25 | elapsed:    3.0s remaining:    0.9s\n",
      "[Parallel(n_jobs=-1)]: Done  25 out of  25 | elapsed:    3.1s finished\n"
     ]
    },
    {
     "data": {
      "text/plain": [
       "RandomizedSearchCV(cv=5, estimator=DecisionTreeRegressor(), n_iter=5, n_jobs=-1,\n",
       "                   param_distributions={'max_depth': [6, 9, 12, 15],\n",
       "                                        'min_samples_leaf': [10, 50, 100, 150]},\n",
       "                   scoring=make_scorer(mean_squared_error), verbose=3)"
      ]
     },
     "execution_count": 12,
     "metadata": {},
     "output_type": "execute_result"
    }
   ],
   "source": [
    "random_search.fit(X,y)"
   ]
  },
  {
   "cell_type": "code",
   "execution_count": 13,
   "metadata": {},
   "outputs": [
    {
     "name": "stdout",
     "output_type": "stream",
     "text": [
      "1218784.768530 with: {'min_samples_leaf': 100, 'max_depth': 6}\n",
      "Best parameters with the minimum Mean Square Error are: {'min_samples_leaf': 100, 'max_depth': 6}\n",
      "1234745.474520 with: {'min_samples_leaf': 100, 'max_depth': 15}\n",
      "1253119.899713 with: {'min_samples_leaf': 50, 'max_depth': 12}\n",
      "1238998.459008 with: {'min_samples_leaf': 10, 'max_depth': 6}\n",
      "1243248.046485 with: {'min_samples_leaf': 50, 'max_depth': 9}\n"
     ]
    }
   ],
   "source": [
    "means = random_search.cv_results_['mean_test_score']\n",
    "params = random_search.cv_results_['params']\n",
    "for mean, param in zip(means, params):\n",
    "    print(\"%f with: %r\" % (mean, param))\n",
    "    if mean == min(means):\n",
    "        print('Best parameters with the minimum Mean Square Error are:',param)"
   ]
  },
  {
   "cell_type": "markdown",
   "metadata": {},
   "source": [
    "# Evaluating the model for Train and Test set "
   ]
  },
  {
   "cell_type": "code",
   "execution_count": 14,
   "metadata": {},
   "outputs": [],
   "source": [
    "DT = DecisionTreeRegressor(min_samples_leaf=100, max_depth=6)"
   ]
  },
  {
   "cell_type": "code",
   "execution_count": 15,
   "metadata": {},
   "outputs": [
    {
     "data": {
      "text/plain": [
       "DecisionTreeRegressor(max_depth=6, min_samples_leaf=100)"
      ]
     },
     "execution_count": 15,
     "metadata": {},
     "output_type": "execute_result"
    }
   ],
   "source": [
    "DT.fit(X,y)"
   ]
  },
  {
   "cell_type": "code",
   "execution_count": 16,
   "metadata": {},
   "outputs": [],
   "source": [
    "y_pred = DT.predict(X)"
   ]
  },
  {
   "cell_type": "code",
   "execution_count": 17,
   "metadata": {},
   "outputs": [
    {
     "name": "stdout",
     "output_type": "stream",
     "text": [
      "Score: 59.532325752312374\n",
      "MAE : 27.6\n",
      "RMSE : 1086\n"
     ]
    }
   ],
   "source": [
    "from sklearn.metrics import r2_score,mean_squared_error,mean_absolute_error\n",
    "\n",
    "score = r2_score(y,y_pred)\n",
    "print(\"Score:\",100*score)\n",
    "print(\"MAE : %.4g\" % np.sqrt(mean_absolute_error(y,y_pred)))\n",
    "print(\"RMSE : %.4g\" % np.sqrt(mean_squared_error(y,y_pred)))"
   ]
  },
  {
   "cell_type": "code",
   "execution_count": 18,
   "metadata": {},
   "outputs": [
    {
     "name": "stdout",
     "output_type": "stream",
     "text": [
      "\n",
      "Model Report\n",
      "MAE : 27.6\n",
      "RMSE : 1086\n",
      "CV Score : Mean - 1097 | Std - 45.76 | Min - 1032 | Max - 1211\n"
     ]
    }
   ],
   "source": [
    "from sklearn.metrics import mean_squared_error,make_scorer,mean_absolute_error\n",
    "from sklearn.model_selection import cross_val_score\n",
    "\n",
    "#Perform cross-validation:\n",
    "cv_score = cross_val_score(DT,X, y, cv=20, scoring = make_scorer(mean_squared_error))\n",
    "cv_score = np.sqrt(np.abs(cv_score))\n",
    "    \n",
    "#Print model report:\n",
    "print(\"\\nModel Report\")\n",
    "print(\"MAE : %.4g\" % np.sqrt(mean_absolute_error(y,y_pred)))\n",
    "print(\"RMSE : %.4g\" % np.sqrt(mean_squared_error(y,y_pred)))\n",
    "print(\"CV Score : Mean - %.4g | Std - %.4g | Min - %.4g | Max - %.4g\" % (np.mean(cv_score),np.std(cv_score),np.min(cv_score),np.max(cv_score)))"
   ]
  },
  {
   "cell_type": "code",
   "execution_count": null,
   "metadata": {},
   "outputs": [],
   "source": [
    "import pickle\n",
    "\n",
    "# Saving the model to a pickle file\n",
    "with open('decisionTreeModel.pkl', 'wb') as pkl:\n",
    "    pickle.dump(DT, pkl)\n",
    "\n",
    "print('Model saved as pickle file.')"
   ]
  }
 ],
 "metadata": {
  "kernelspec": {
   "display_name": "Python 3",
   "language": "python",
   "name": "python3"
  },
  "language_info": {
   "codemirror_mode": {
    "name": "ipython",
    "version": 3
   },
   "file_extension": ".py",
   "mimetype": "text/x-python",
   "name": "python",
   "nbconvert_exporter": "python",
   "pygments_lexer": "ipython3",
   "version": "3.7.2"
  }
 },
 "nbformat": 4,
 "nbformat_minor": 4
}
