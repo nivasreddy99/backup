{
  "cells": [
    {
      "cell_type": "code",
      "execution_count": 30,
      "metadata": {
        "_uuid": "c6c04c796d4b30f7330d97ede3cdca92a7607a4c",
        "colab": {
          "base_uri": "https://localhost:8080/"
        },
        "id": "JvOqU0QOU3Ui",
        "outputId": "7b57d5a1-a3b3-42a5-a7f8-8ae0d6515005"
      },
      "outputs": [
        {
          "name": "stdout",
          "output_type": "stream",
          "text": [
            "Model: \"sequential\"\n",
            "_________________________________________________________________\n",
            "Layer (type)                 Output Shape              Param #   \n",
            "=================================================================\n",
            "lstm (LSTM)                  (None, 70)                20160     \n",
            "_________________________________________________________________\n",
            "dropout (Dropout)            (None, 70)                0         \n",
            "_________________________________________________________________\n",
            "dense (Dense)                (None, 1)                 71        \n",
            "=================================================================\n",
            "Total params: 20,231\n",
            "Trainable params: 20,231\n",
            "Non-trainable params: 0\n",
            "_________________________________________________________________\n"
          ]
        }
      ],
      "source": [
        "# DEFINE our model \n",
        "model_LSTM = Sequential()\n",
        "model_LSTM.add(LSTM(units =70,input_shape = (X_train.shape[1], X_train.shape[2])))\n",
        "model_LSTM.add(Dropout(0.4))\n",
        "model_LSTM.add(Dense(1))\n",
        "\n",
        "model_LSTM.compile(loss = 'mse',optimizer = 'adam', metrics = ['mean_squared_error'])\n",
        "model_LSTM.summary()\n"
      ]
    },
    {
      "cell_type": "code",
      "execution_count": 32,
      "metadata": {
        "_uuid": "a25822391ef2ab412f5abdd2b317d9eec825e19b",
        "colab": {
          "base_uri": "https://localhost:8080/"
        },
        "id": "by7o6xEKU3Uq",
        "outputId": "adc4fed9-a89f-48df-8246-f6e14d755e87",
        "scrolled": true
      },
      "outputs": [
        {
          "name": "stdout",
          "output_type": "stream",
          "text": [
            "Epoch 1/12\n",
            "54/54 [==============================] - 1s 20ms/step - loss: 30.4885 - mean_squared_error: 30.4885\n",
            "Epoch 2/12\n",
            "54/54 [==============================] - 1s 19ms/step - loss: 30.1435 - mean_squared_error: 30.1435\n",
            "Epoch 3/12\n",
            "54/54 [==============================] - 1s 19ms/step - loss: 29.9930 - mean_squared_error: 29.9930\n",
            "Epoch 4/12\n",
            "54/54 [==============================] - 1s 19ms/step - loss: 29.8611 - mean_squared_error: 29.8611\n",
            "Epoch 5/12\n",
            "54/54 [==============================] - 1s 19ms/step - loss: 29.8368 - mean_squared_error: 29.8368\n",
            "Epoch 6/12\n",
            "54/54 [==============================] - 1s 19ms/step - loss: 29.6879 - mean_squared_error: 29.6879\n",
            "Epoch 7/12\n",
            "54/54 [==============================] - 1s 19ms/step - loss: 29.7167 - mean_squared_error: 29.7167\n",
            "Epoch 8/12\n",
            "54/54 [==============================] - 1s 19ms/step - loss: 29.5979 - mean_squared_error: 29.5979\n",
            "Epoch 9/12\n",
            "54/54 [==============================] - 1s 19ms/step - loss: 29.5844 - mean_squared_error: 29.5844\n",
            "Epoch 10/12\n",
            "54/54 [==============================] - 1s 19ms/step - loss: 29.5481 - mean_squared_error: 29.5481\n",
            "Epoch 11/12\n",
            "54/54 [==============================] - 1s 19ms/step - loss: 29.4870 - mean_squared_error: 29.4870\n",
            "Epoch 12/12\n",
            "54/54 [==============================] - 1s 19ms/step - loss: 29.3784 - mean_squared_error: 29.3784\n"
          ]
        }
      ],
      "source": [
        "history_lstm = model_LSTM.fit(X_train,y_train,batch_size = 4000,epochs = 12)"
      ]
    },
    {
      "cell_type": "code",
      "execution_count": 33,
      "metadata": {
        "colab": {
          "base_uri": "https://localhost:8080/",
          "height": 281
        },
        "id": "1d-mFa9KjVYX",
        "outputId": "7785e6ce-f9ba-4e3b-9084-6f93ee1755f3"
      },
      "outputs": [
        {
          "data": {
            "text/plain": [
              "<matplotlib.legend.Legend at 0x7f1b300d5b00>"
            ]
          },
          "execution_count": 33,
          "metadata": {
            "tags": []
          },
          "output_type": "execute_result"
        },
        {
          "data": {
            "image/png": "[encoded data removed]",
            "text/plain": [
              "<Figure size 432x288 with 1 Axes>"
            ]
          },
          "metadata": {
            "needs_background": "light",
            "tags": []
          },
          "output_type": "display_data"
        }
      ],
      "source": [
        "# Plot the loss curves for training\n",
        "plt.plot(history_lstm.history['loss'], color='b', label=\"Training loss\")\n",
        "plt.legend(loc='best', shadow=True)"
      ]
    }
  ],
  "metadata": {
    "accelerator": "GPU",
    "colab": {
      "collapsed_sections": [],
      "name": "Predict future sales using LSTM.ipynb",
      "provenance": []
    },
    "kernelspec": {
      "display_name": "Python 3",
      "language": "python",
      "name": "python3"
    },
    "language_info": {
      "codemirror_mode": {
        "name": "ipython",
        "version": 3
      },
      "file_extension": ".py",
      "mimetype": "text/x-python",
      "name": "python",
      "nbconvert_exporter": "python",
      "pygments_lexer": "ipython3",
      "version": "3.6.6"
    }
  },
  "nbformat": 4,
  "nbformat_minor": 0
}
