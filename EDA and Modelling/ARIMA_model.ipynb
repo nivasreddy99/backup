{
  "cells": [
    {
      "cell_type": "code",
      "execution_count": null,
      "id": "63fa2909-4c7c-4d8d-aa4c-6bee201c9eb4",
      "metadata": {
        "noteable": {
          "cell_type": "code"
        }
      },
      "outputs": [],
      "source": [
        "# Building the ARIMA Model\n",
        "# Checking stationarity\n",
        "result = adfuller(data['Item_Outlet_Sales'])\n",
        "print('ADF Statistic: %f' % result[0])\n",
        "print('p-value: %f' % result[1])\n",
        "\n",
        "# Autocorrelation plot\n",
        "df_sales = data['Item_Outlet_Sales'].dropna()\n",
        "autocorrelation_plot(df_sales)\n",
        "plt.show()"
      ]
    },
    {
      "cell_type": "code",
      "execution_count": null,
      "id": "e220a0da-6dfb-4ad3-a8ae-b2ddda689428",
      "metadata": {
        "noteable": {
          "cell_type": "code"
        }
      },
      "outputs": [],
      "source": [
        "# Fitting the ARIMA model\n",
        "# Note: The order (p,d,q) needs to be determined based on the data\n",
        "\n",
        "model = ARIMA(df_sales, order=(5,1,0))\n",
        "model_fit = model.fit(disp=0)\n",
        "print(model_fit.summary())\n",
        "\n",
        "# Plotting residual errors\n",
        "residuals = pd.DataFrame(model_fit.resid)\n",
        "residuals.plot()\n",
        "plt.show()\n",
        "residuals.plot(kind='kde')\n",
        "plt.show()\n",
        "print(residuals.describe())"
      ]
    },
    {
      "cell_type": "code",
      "execution_count": null,
      "id": "c9665f1c-b3b2-45ad-9796-59faf44cf4c2",
      "metadata": {
        "noteable": {
          "cell_type": "code"
        }
      },
      "outputs": [],
      "source": [
        "import pickle\n",
        "\n",
        "# Saving the model to a pickle file\n",
        "with open('ArimaModel.pkl', 'wb') as pkl:\n",
        "    pickle.dump(model_fit, pkl)\n",
        "\n",
        "print('Model saved as pickle file.')"
      ]
    }
  ],
  "metadata": {
    "kernel_info": {
      "name": "python3"
    },
    "kernelspec": {
      "display_name": "Python 3.9",
      "identifier": "legacy",
      "language": "python",
      "language_version": "3.9",
      "name": "python3"
    },
    "noteable": {
      "last_delta_id": "83d0442b-bf0a-4968-b715-6c3c4a0b10b7"
    },
    "noteable-chatgpt": {
      "create_notebook": {
        "openai_conversation_id": "5df1ce41-c8b2-5cba-b59a-aab7326d5f5a",
        "openai_ephemeral_user_id": "af580ec2-0451-53a1-963f-d0236ab4e0c8",
        "openai_subdivision1_iso_code": "US-TX"
      }
    },
    "nteract": {
      "version": "noteable@2.9.0"
    },
    "selected_hardware_size": "small"
  },
  "nbformat": 4,
  "nbformat_minor": 5
}
